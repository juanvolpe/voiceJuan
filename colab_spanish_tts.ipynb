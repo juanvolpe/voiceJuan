{
  "nbformat": 4,
  "nbformat_minor": 0,
  "metadata": {
    "colab": {
      "name": "Spanish Voice Cloning with Tortoise TTS",
      "provenance": [],
      "collapsed_sections": [],
      "toc_visible": true
    },
    "kernelspec": {
      "name": "python3",
      "display_name": "Python 3"
    },
    "language_info": {
      "name": "python"
    }
  },
  "cells": [
    {
      "cell_type": "markdown",
      "metadata": {
        "id": "intro"
      },
      "source": [
        "# Spanish Voice Cloning with Tortoise TTS\n",
        "\n",
        "[![Open In Colab](https://colab.research.google.com/assets/colab-badge.svg)](https://colab.research.google.com/github/juanvolpe/voiceJuan/blob/main/colab_spanish_tts.ipynb)\n",
        "\n",
        "This notebook will help you:\n",
        "1. Set up the Spanish voice cloning system\n",
        "2. Upload your voice samples\n",
        "3. Generate Spanish speech with your voice"
      ]
    },
    {
      "cell_type": "markdown",
      "metadata": {
        "id": "token_setup"
      },
      "source": [
        "## Hugging Face Token Setup\n",
        "\n",
        "This notebook uses your Hugging Face token to download models. The token should be set in one of these ways:\n",
        "\n",
        "1. **Colab Secrets (Recommended)**: \n",
        "   - Already set up as \"HF_TOKEN\" in your Colab secrets \u2705\n",
        "   - No additional setup needed!\n",
        "\n",
        "2. Alternative: Environment File\n",
        "   - Only needed if not using Colab secrets\n",
        "   - Create a `.env` file with `HF_TOKEN=your_token_here`\n",
        "\n",
        "The code will automatically check Colab secrets first."
      ]
    },
    {
      "cell_type": "code",
      "metadata": {
        "id": "token_check"
      },
      "source": [
        "# Check for HF token in Colab secrets or .env file\n",
        "import os\n",
        "from google.colab import userdata\n",
        "from dotenv import load_dotenv\n",
        "\n",
        "def get_hf_token():\n",
        "    \"\"\"Get HF token from Colab secrets or .env file\"\"\"\n",
        "    try:\n",
        "        # Try Colab secrets first\n",
        "        token = userdata.get('HF_TOKEN')\n",
        "        print(\"\u2705 Found HF token in Colab secrets!\")\n",
        "        return token\n",
        "    except Exception as e:\n",
        "        print(\"\u26a0\ufe0f Colab secret not found, trying .env file...\")\n",
        "        # If not in secrets, try .env file\n",
        "        load_dotenv()\n",
        "        token = os.getenv('HF_TOKEN')\n",
        "        if not token:\n",
        "            raise ValueError(\n",
        "                \"\u274c HF_TOKEN not found in Colab secrets or .env file.\\n\"\n",
        "                \"Please add it to Colab secrets or create a .env file.\"\n",
        "            )\n",
        "        print(\"\u2705 Found HF token in .env file!\")\n",
        "        return token\n",
        "\n",
        "# Set the token for use in the TTS system\n",
        "try:\n",
        "    os.environ['HF_TOKEN'] = get_hf_token()\n",
        "    print(\"\ud83d\ude80 Token set successfully! Ready to proceed.\")\n",
        "except Exception as e:\n",
        "    print(f\"\u274c Error setting token: {str(e)}\")"
      ],
      "execution_count": null,
      "outputs": []
    },
    {
      "cell_type": "code",
      "metadata": {
        "id": "setup"
      },
      "source": [
        "# Clone repository and install dependencies\n",
        "!git clone https://github.com/juanvolpe/voiceJuan.git\n",
        "%cd voiceJuan\n",
        "\n",
        "print(\"\\n\ud83d\udce6 Installing dependencies...\")\n",
        "!pip install -r requirements.txt\n",
        "\n",
        "print(\"\\n\u2728 Setup complete! Ready to start voice cloning.\")"
      ],
      "execution_count": null,
      "outputs": []
    }
  ]
}