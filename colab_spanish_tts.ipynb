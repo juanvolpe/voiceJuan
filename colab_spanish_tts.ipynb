{
  "cells": [
    {
      "cell_type": "code",
      "execution_count": null,
      "metadata": {
        "vscode": {
          "languageId": "plaintext"
        }
      },
      "outputs": [],
      "source": [
        "# Spanish Voice Cloning with Tortoise TTS\n",
        "\n",
        "<a href=\"https://colab.research.google.com/github/juanvolpe/voiceJuan/blob/main/colab_spanish_tts.ipynb\" target=\"_parent\">\n",
        "  <img src=\"https://colab.research.google.com/assets/colab-badge.svg\" alt=\"Open In Colab\"/>\n",
        "</a>\n",
        "\n",
        "This notebook will help you:\n",
        "1. Set up the Spanish voice cloning system\n",
        "2. Upload your voice samples\n",
        "3. Generate Spanish speech with your voice\n",
        "\n",
        "Let us begin with the setup:\n"
      ]
    },
    {
      "cell_type": "code",
      "execution_count": null,
      "metadata": {},
      "outputs": [],
      "source": [
        "# Check version and setup\n",
        "import requests\n",
        "\n",
        "def get_latest_commit():\n",
        "    repo_api = \"https://api.github.com/repos/juanvolpe/voiceJuan/commits/main\"\n",
        "    response = requests.get(repo_api)\n",
        "    if response.status_code == 200:\n",
        "        return response.json()['sha']\n",
        "    return None\n",
        "\n",
        "# Clone repository\n",
        "!git clone https://github.com/juanvolpe/voiceJuan.git\n",
        "%cd voiceJuan\n",
        "\n",
        "# Check version\n",
        "latest_commit = get_latest_commit()\n",
        "if latest_commit:\n",
        "    print(f\"\\nLatest GitHub commit: {latest_commit}\")\n",
        "    print(\"\\nIf you want the latest version:\")\n",
        "    print(\"1. File → Reset runtime\")\n",
        "    print(\"2. Runtime → Run all\")\n",
        "\n",
        "# Install dependencies\n",
        "!pip install -r requirements.txt\n"
      ]
    },
    {
      "cell_type": "code",
      "execution_count": null,
      "metadata": {
        "vscode": {
          "languageId": "plaintext"
        }
      },
      "outputs": [],
      "source": [
        "# Spanish Voice Cloning with Tortoise TTS\n",
        "\n",
        "<a href=\"https://colab.research.google.com/github/juanvolpe/voiceJuan/blob/main/colab_spanish_tts.ipynb\" target=\"_parent\">\n",
        "  <img src=\"https://colab.research.google.com/assets/colab-badge.svg\" alt=\"Open In Colab\"/>\n",
        "</a>\n",
        "\n",
        "This notebook will help you:\n",
        "1. Set up the Spanish voice cloning system\n",
        "2. Upload your voice samples\n",
        "3. Generate Spanish speech with your voice\n",
        "\n",
        "Let us begin with the setup:\n"
      ]
    },
    {
      "cell_type": "code",
      "execution_count": null,
      "metadata": {},
      "outputs": [],
      "source": [
        "# Check version and setup\n",
        "import requests\n",
        "\n",
        "def get_latest_commit():\n",
        "    repo_api = \"https://api.github.com/repos/juanvolpe/voiceJuan/commits/main\"\n",
        "    response = requests.get(repo_api)\n",
        "    if response.status_code == 200:\n",
        "        return response.json()['sha']\n",
        "    return None\n",
        "\n",
        "# Clone repository\n",
        "!git clone https://github.com/juanvolpe/voiceJuan.git\n",
        "%cd voiceJuan\n",
        "\n",
        "# Check version\n",
        "latest_commit = get_latest_commit()\n",
        "if latest_commit:\n",
        "    print(f\"\\nLatest GitHub commit: {latest_commit}\")\n",
        "    print(\"\\nIf you want the latest version:\")\n",
        "    print(\"1. File → Reset runtime\")\n",
        "    print(\"2. Runtime → Run all\")\n",
        "\n",
        "# Install dependencies\n",
        "!pip install -r requirements.txt\n"
      ]
    },
    {
      "cell_type": "code",
      "execution_count": null,
      "metadata": {
        "vscode": {
          "languageId": "plaintext"
        }
      },
      "outputs": [],
      "source": [
        "## Upload Voice Samples\n",
        "\n",
        "Please prepare your WAV files with these requirements:\n",
        "- Clear Spanish speech\n",
        "- WAV format\n",
        "- Good quality audio\n",
        "\n",
        "Use the \"Choose Files\" button below to upload your samples:\n"
      ]
    },
    {
      "cell_type": "code",
      "execution_count": null,
      "metadata": {},
      "outputs": [],
      "source": [
        "from google.colab import files\n",
        "import os\n",
        "\n",
        "# Create directories\n",
        "!mkdir -p tortoise/voices/juan_es/samples\n",
        "\n",
        "# Upload interface\n",
        "print(\"Please upload your WAV files...\")\n",
        "uploaded = files.upload()\n",
        "\n",
        "# Save files\n",
        "for filename in uploaded.keys():\n",
        "    if filename.endswith('.wav'):\n",
        "        path = f'tortoise/voices/juan_es/samples/{filename}'\n",
        "        with open(path, 'wb') as f:\n",
        "            f.write(uploaded[filename])\n",
        "        print(f'Saved {filename}')\n",
        "\n",
        "# List all uploaded samples\n",
        "print(\"\\nUploaded voice samples:\")\n",
        "!ls tortoise/voices/juan_es/samples/\n"
      ]
    },
    {
      "cell_type": "code",
      "execution_count": null,
      "metadata": {
        "vscode": {
          "languageId": "plaintext"
        }
      },
      "outputs": [],
      "source": [
        "## Generate Speech\n",
        "\n",
        "Ready to generate speech with your voice samples! You will have two options:\n",
        "1. Use existing voice cache (faster)\n",
        "2. Reprocess voice samples (choose this if you added new samples)\n",
        "\n",
        "Run the code below to begin:\n"
      ]
    },
    {
      "cell_type": "code",
      "execution_count": null,
      "metadata": {},
      "outputs": [],
      "source": [
        "from spanish_tortoise import SpanishTTS\n",
        "from IPython.display import Audio\n",
        "\n",
        "# Initialize TTS\n",
        "tts = SpanishTTS()  # Will ask about cache usage\n",
        "\n",
        "# Get text input\n",
        "text = input(\"Enter Spanish text: \")\n",
        "\n",
        "# Available presets\n",
        "presets = ['ultra_fast', 'fast', 'standard', 'high_quality']\n",
        "print(\"\\nAvailable quality presets:\")\n",
        "for i, p in enumerate(presets, 1):\n",
        "    print(f\"{i}. {p}\")\n",
        "\n",
        "# Get preset choice\n",
        "while True:\n",
        "    choice = input(\"\\nSelect quality (1-4) [default=2]: \").strip()\n",
        "    if not choice:\n",
        "        preset = 'fast'\n",
        "        break\n",
        "    try:\n",
        "        idx = int(choice) - 1\n",
        "        if 0 <= idx < len(presets):\n",
        "            preset = presets[idx]\n",
        "            break\n",
        "    except ValueError:\n",
        "        pass\n",
        "    print(\"Please enter a number between 1 and 4\")\n",
        "\n",
        "# Generate speech\n",
        "output_file = tts.generate_speech(text, preset=preset)\n",
        "\n",
        "# Play the generated audio\n",
        "Audio(output_file)\n"
      ]
    },
    {
      "cell_type": "code",
      "execution_count": null,
      "metadata": {
        "vscode": {
          "languageId": "plaintext"
        }
      },
      "outputs": [],
      "source": [
        "## Download Generated Audio\n",
        "\n",
        "Click below to save the generated audio file to your computer:\n"
      ]
    },
    {
      "cell_type": "code",
      "execution_count": null,
      "metadata": {},
      "outputs": [],
      "source": [
        "files.download(output_file)\n"
      ]
    },
    {
      "cell_type": "code",
      "execution_count": null,
      "metadata": {
        "vscode": {
          "languageId": "plaintext"
        }
      },
      "outputs": [],
      "source": [
        "{\n",
        "  \"nbformat\": 4,\n",
        "  \"nbformat_minor\": 0,\n",
        "  \"metadata\": {\n",
        "    \"colab\": {\n",
        "      \"name\": \"Spanish Voice Cloning with Tortoise TTS\",\n",
        "      \"provenance\": [],\n",
        "      \"collapsed_sections\": []\n",
        "    },\n",
        "    \"kernelspec\": {\n",
        "      \"name\": \"python3\",\n",
        "      \"display_name\": \"Python 3\"\n",
        "    }\n",
        "  },\n",
        "  \"cells\": [\n",
        "    {\n",
        "      \"cell_type\": \"markdown\",\n",
        "      \"metadata\": {\n",
        "        \"id\": \"title\",\n",
        "        \"colab_type\": \"text\"\n",
        "      },\n",
        "      \"source\": [\n",
        "        \"# Spanish Voice Cloning with Tortoise TTS\\n\",\n",
        "        \"\\n\",\n",
        "        \"<a href=\\\"https://colab.research.google.com/github/juanvolpe/voiceJuan/blob/main/colab_spanish_tts.ipynb\\\" target=\\\"_parent\\\">\\n\",\n",
        "        \"  <img src=\\\"https://colab.research.google.com/assets/colab-badge.svg\\\" alt=\\\"Open In Colab\\\"/>\\n\",\n",
        "        \"</a>\\n\",\n",
        "        \"\\n\",\n",
        "        \"This notebook will help you:\\n\",\n",
        "        \"1. Set up the Spanish voice cloning system\\n\",\n",
        "        \"2. Upload your voice samples\\n\",\n",
        "        \"3. Generate Spanish speech with your voice\\n\",\n",
        "        \"\\n\",\n",
        "        \"Let us begin with the setup:\"\n",
        "      ]\n",
        "    },\n",
        "    {\n",
        "      \"cell_type\": \"code\",\n",
        "      \"metadata\": {\n",
        "        \"id\": \"setup\"\n",
        "      },\n",
        "      \"source\": [\n",
        "        \"# Check version and setup\\n\",\n",
        "        \"import requests\\n\",\n",
        "        \"\\n\",\n",
        "        \"def get_latest_commit():\\n\",\n",
        "        \"    repo_api = \\\"https://api.github.com/repos/juanvolpe/voiceJuan/commits/main\\\"\\n\",\n",
        "        \"    response = requests.get(repo_api)\\n\",\n",
        "        \"    if response.status_code == 200:\\n\",\n",
        "        \"        return response.json()['sha']\\n\",\n",
        "        \"    return None\\n\",\n",
        "        \"\\n\",\n",
        "        \"# Clone repository\\n\",\n",
        "        \"!git clone https://github.com/juanvolpe/voiceJuan.git\\n\",\n",
        "        \"%cd voiceJuan\\n\",\n",
        "        \"\\n\",\n",
        "        \"# Check version\\n\",\n",
        "        \"latest_commit = get_latest_commit()\\n\",\n",
        "        \"if latest_commit:\\n\",\n",
        "        \"    print(f\\\"\\\\nLatest GitHub commit: {latest_commit}\\\")\\n\",\n",
        "        \"    print(\\\"\\\\nIf you want the latest version:\\\")\\n\",\n",
        "        \"    print(\\\"1. File → Reset runtime\\\")\\n\",\n",
        "        \"    print(\\\"2. Runtime → Run all\\\")\\n\",\n",
        "        \"\\n\",\n",
        "        \"# Install dependencies\\n\",\n",
        "        \"!pip install -r requirements.txt\"\n",
        "      ],\n",
        "      \"execution_count\": null,\n",
        "      \"outputs\": []\n",
        "    }\n",
        "  ]\n",
        "}\n"
      ]
    },
    {
      "cell_type": "code",
      "execution_count": null,
      "metadata": {
        "vscode": {
          "languageId": "plaintext"
        }
      },
      "outputs": [],
      "source": [
        "# Spanish Voice Cloning with Tortoise TTS\n",
        "\n",
        "<a href=\"https://colab.research.google.com/github/juanvolpe/voiceJuan/blob/main/colab_spanish_tts.ipynb\" target=\"_parent\">\n",
        "  <img src=\"https://colab.research.google.com/assets/colab-badge.svg\" alt=\"Open In Colab\"/>\n",
        "</a>\n",
        "\n",
        "This notebook will help you:\n",
        "1. Set up the Spanish voice cloning system\n",
        "2. Upload your voice samples\n",
        "3. Generate Spanish speech with your voice\n",
        "\n",
        "Let us begin with the setup:\n"
      ]
    },
    {
      "cell_type": "code",
      "execution_count": null,
      "metadata": {},
      "outputs": [],
      "source": [
        "# Check version and setup\n",
        "import requests\n",
        "\n",
        "def get_latest_commit():\n",
        "    repo_api = \"https://api.github.com/repos/juanvolpe/voiceJuan/commits/main\"\n",
        "    response = requests.get(repo_api)\n",
        "    if response.status_code == 200:\n",
        "        return response.json()['sha']\n",
        "    return None\n",
        "\n",
        "# Clone repository\n",
        "!git clone https://github.com/juanvolpe/voiceJuan.git\n",
        "%cd voiceJuan\n",
        "\n",
        "# Check version\n",
        "latest_commit = get_latest_commit()\n",
        "if latest_commit:\n",
        "    print(f\"\\nLatest GitHub commit: {latest_commit}\")\n",
        "    print(\"\\nIf you want the latest version:\")\n",
        "    print(\"1. File → Reset runtime\")\n",
        "    print(\"2. Runtime → Run all\")\n",
        "\n",
        "# Install dependencies\n",
        "!pip install -r requirements.txt\n"
      ]
    },
    {
      "cell_type": "code",
      "execution_count": null,
      "metadata": {
        "vscode": {
          "languageId": "plaintext"
        }
      },
      "outputs": [],
      "source": [
        "{\n",
        "  \"nbformat\": 4,\n",
        "  \"nbformat_minor\": 0,\n",
        "  \"metadata\": {\n",
        "    \"colab\": {\n",
        "      \"name\": \"Spanish Voice Cloning with Tortoise TTS\",\n",
        "      \"provenance\": [],\n",
        "      \"collapsed_sections\": []\n",
        "    },\n",
        "    \"kernelspec\": {\n",
        "      \"name\": \"python3\",\n",
        "      \"display_name\": \"Python 3\"\n",
        "    }\n",
        "  },\n",
        "  \"cells\": [\n",
        "    {\n",
        "      \"cell_type\": \"markdown\",\n",
        "      \"metadata\": {\n",
        "        \"id\": \"title\",\n",
        "        \"colab_type\": \"text\"\n",
        "      },\n",
        "      \"source\": [\n",
        "        \"# Spanish Voice Cloning with Tortoise TTS\\n\",\n",
        "        \"\\n\",\n",
        "        \"<a href=\\\"https://colab.research.google.com/github/juanvolpe/voiceJuan/blob/main/colab_spanish_tts.ipynb\\\" target=\\\"_parent\\\">\\n\",\n",
        "        \"  <img src=\\\"https://colab.research.google.com/assets/colab-badge.svg\\\" alt=\\\"Open In Colab\\\"/>\\n\",\n",
        "        \"</a>\\n\",\n",
        "        \"\\n\",\n",
        "        \"This notebook will help you:\\n\",\n",
        "        \"1. Set up the Spanish voice cloning system\\n\",\n",
        "        \"2. Upload your voice samples\\n\",\n",
        "        \"3. Generate Spanish speech with your voice\\n\",\n",
        "        \"\\n\",\n",
        "        \"Let us begin with the setup:\"\n",
        "      ]\n",
        "    }\n",
        "  ]\n",
        "}\n"
      ]
    },
    {
      "cell_type": "code",
      "execution_count": null,
      "metadata": {
        "vscode": {
          "languageId": "plaintext"
        }
      },
      "outputs": [],
      "source": [
        "{\n",
        "  \"nbformat\": 4,\n",
        "  \"nbformat_minor\": 0,\n",
        "  \"metadata\": {\n",
        "    \"colab\": {\n",
        "      \"name\": \"Spanish Voice Cloning with Tortoise TTS\",\n",
        "      \"provenance\": [],\n",
        "      \"collapsed_sections\": []\n",
        "    },\n",
        "    \"kernelspec\": {\n",
        "      \"name\": \"python3\",\n",
        "      \"display_name\": \"Python 3\"\n",
        "    }\n",
        "  },\n",
        "  \"cells\": [\n",
        "    {\n",
        "      \"cell_type\": \"markdown\",\n",
        "      \"metadata\": {\n",
        "        \"id\": \"title\",\n",
        "        \"colab_type\": \"text\"\n",
        "      },\n",
        "      \"source\": [\n",
        "        \"# Spanish Voice Cloning with Tortoise TTS\\n\",\n",
        "        \"\\n\",\n",
        "        \"<a href=\\\"https://colab.research.google.com/github/juanvolpe/voiceJuan/blob/main/colab_spanish_tts.ipynb\\\" target=\\\"_parent\\\"><img src=\\\"https://colab.research.google.com/assets/colab-badge.svg\\\" alt=\\\"Open In Colab\\\"/></a>\\n\",\n",
        "        \"\\n\",\n",
        "        \"This notebook will help you:\\n\",\n",
        "        \"1. Set up the Spanish voice cloning system\\n\",\n",
        "        \"2. Upload your voice samples\\n\",\n",
        "        \"3. Generate Spanish speech with your voice\\n\",\n",
        "        \"\\n\",\n",
        "        \"Let us begin with the setup:\"\n",
        "      ]\n",
        "    }\n",
        "  ]\n",
        "}\n"
      ]
    },
    {
      "cell_type": "code",
      "execution_count": null,
      "metadata": {},
      "outputs": [],
      "source": [
        "{\n",
        "  \"cell_type\": \"code\",\n",
        "  \"metadata\": {\n",
        "    \"id\": \"setup\"\n",
        "  },\n",
        "  \"source\": [\n",
        "    \"# Check version and setup\\n\",\n",
        "    \"import requests\\n\",\n",
        "    \"\\n\",\n",
        "    \"def get_latest_commit():\\n\",\n",
        "    \"    repo_api = \\\"https://api.github.com/repos/juanvolpe/voiceJuan/commits/main\\\"\\n\",\n",
        "    \"    response = requests.get(repo_api)\\n\",\n",
        "    \"    if response.status_code == 200:\\n\",\n",
        "    \"        return response.json()['sha']\\n\",\n",
        "    \"    return None\\n\",\n",
        "    \"\\n\",\n",
        "    \"# Clone repository\\n\",\n",
        "    \"!git clone https://github.com/juanvolpe/voiceJuan.git\\n\",\n",
        "    \"%cd voiceJuan\\n\",\n",
        "    \"\\n\",\n",
        "    \"# Check version\\n\",\n",
        "    \"latest_commit = get_latest_commit()\\n\",\n",
        "    \"if latest_commit:\\n\",\n",
        "    \"    print(f\\\"\\\\nLatest GitHub commit: {latest_commit}\\\")\\n\",\n",
        "    \"    print(\\\"\\\\nIf you want the latest version:\\\")\\n\",\n",
        "    \"    print(\\\"1. File → Reset runtime\\\")\\n\",\n",
        "    \"    print(\\\"2. Runtime → Run all\\\")\\n\",\n",
        "    \"\\n\",\n",
        "    \"# Install dependencies\\n\",\n",
        "    \"!pip install -r requirements.txt\"\n",
        "  ],\n",
        "  \"execution_count\": null,\n",
        "  \"outputs\": []\n",
        "}\n"
      ]
    },
    {
      "cell_type": "code",
      "execution_count": null,
      "metadata": {
        "vscode": {
          "languageId": "plaintext"
        }
      },
      "outputs": [],
      "source": [
        "# Spanish Voice Cloning with Tortoise TTS\n",
        "\n",
        "[![Open In Colab](https://colab.research.google.com/assets/colab-badge.svg)](https://colab.research.google.com/github/juanvolpe/voiceJuan/blob/main/colab_spanish_tts.ipynb)\n",
        "\n",
        "This notebook will help you:\n",
        "1. Set up the Spanish voice cloning system\n",
        "2. Upload your voice samples\n",
        "3. Generate Spanish speech with your voice\n",
        "\n",
        "Let us begin with the setup:\n"
      ]
    },
    {
      "cell_type": "code",
      "execution_count": null,
      "metadata": {},
      "outputs": [],
      "source": [
        "# Check version and setup\n",
        "import requests\n",
        "\n",
        "def get_latest_commit():\n",
        "    repo_api = \"https://api.github.com/repos/juanvolpe/voiceJuan/commits/main\"\n",
        "    response = requests.get(repo_api)\n",
        "    if response.status_code == 200:\n",
        "        return response.json()['sha']\n",
        "    return None\n",
        "\n",
        "# Clone repository\n",
        "!git clone https://github.com/juanvolpe/voiceJuan.git\n",
        "%cd voiceJuan\n",
        "\n",
        "# Check version\n",
        "latest_commit = get_latest_commit()\n",
        "if latest_commit:\n",
        "    print(f\"\\nLatest GitHub commit: {latest_commit}\")\n",
        "    print(\"\\nIf you want the latest version:\")\n",
        "    print(\"1. File → Reset runtime\")\n",
        "    print(\"2. Runtime → Run all\")\n",
        "\n",
        "# Install dependencies\n",
        "!pip install -r requirements.txt\n"
      ]
    },
    {
      "cell_type": "code",
      "execution_count": null,
      "metadata": {
        "vscode": {
          "languageId": "plaintext"
        }
      },
      "outputs": [],
      "source": [
        "## Upload Voice Samples\n",
        "\n",
        "Please prepare your WAV files with these requirements:\n",
        "- Clear Spanish speech\n",
        "- WAV format\n",
        "- Good quality audio\n",
        "\n",
        "Use the \"Choose Files\" button below to upload your samples:\n"
      ]
    },
    {
      "cell_type": "code",
      "execution_count": null,
      "metadata": {},
      "outputs": [],
      "source": [
        "from google.colab import files\n",
        "import os\n",
        "\n",
        "# Create directories\n",
        "!mkdir -p tortoise/voices/juan_es/samples\n",
        "\n",
        "# Upload interface\n",
        "print(\"Please upload your WAV files...\")\n",
        "uploaded = files.upload()\n",
        "\n",
        "# Save files\n",
        "for filename in uploaded.keys():\n",
        "    if filename.endswith('.wav'):\n",
        "        path = f'tortoise/voices/juan_es/samples/{filename}'\n",
        "        with open(path, 'wb') as f:\n",
        "            f.write(uploaded[filename])\n",
        "        print(f'Saved {filename}')\n",
        "\n",
        "# List all uploaded samples\n",
        "print(\"\\nUploaded voice samples:\")\n",
        "!ls tortoise/voices/juan_es/samples/\n"
      ]
    },
    {
      "cell_type": "code",
      "execution_count": null,
      "metadata": {
        "vscode": {
          "languageId": "plaintext"
        }
      },
      "outputs": [],
      "source": [
        "## Generate Speech\n",
        "\n",
        "Ready to generate speech with your voice samples! You will have two options:\n",
        "1. Use existing voice cache (faster)\n",
        "2. Reprocess voice samples (choose this if you added new samples)\n",
        "\n",
        "Run the code below to begin:\n"
      ]
    },
    {
      "cell_type": "code",
      "execution_count": null,
      "metadata": {},
      "outputs": [],
      "source": [
        "from spanish_tortoise import SpanishTTS\n",
        "from IPython.display import Audio\n",
        "\n",
        "# Initialize TTS\n",
        "tts = SpanishTTS()  # Will ask about cache usage\n",
        "\n",
        "# Get text input\n",
        "text = input(\"Enter Spanish text: \")\n",
        "\n",
        "# Available presets\n",
        "presets = ['ultra_fast', 'fast', 'standard', 'high_quality']\n",
        "print(\"\\nAvailable quality presets:\")\n",
        "for i, p in enumerate(presets, 1):\n",
        "    print(f\"{i}. {p}\")\n",
        "\n",
        "# Get preset choice\n",
        "while True:\n",
        "    choice = input(\"\\nSelect quality (1-4) [default=2]: \").strip()\n",
        "    if not choice:\n",
        "        preset = 'fast'\n",
        "        break\n",
        "    try:\n",
        "        idx = int(choice) - 1\n",
        "        if 0 <= idx < len(presets):\n",
        "            preset = presets[idx]\n",
        "            break\n",
        "    except ValueError:\n",
        "        pass\n",
        "    print(\"Please enter a number between 1 and 4\")\n",
        "\n",
        "# Generate speech\n",
        "output_file = tts.generate_speech(text, preset=preset)\n",
        "\n",
        "# Play the generated audio\n",
        "Audio(output_file)\n"
      ]
    },
    {
      "cell_type": "code",
      "execution_count": null,
      "metadata": {
        "vscode": {
          "languageId": "plaintext"
        }
      },
      "outputs": [],
      "source": [
        "## Download Generated Audio\n",
        "\n",
        "Click below to save the generated audio file to your computer:\n"
      ]
    },
    {
      "cell_type": "code",
      "execution_count": null,
      "metadata": {
        "vscode": {
          "languageId": "plaintext"
        }
      },
      "outputs": [],
      "source": [
        "# Spanish Voice Cloning with Tortoise TTS\n",
        "\n",
        "[![Open In Colab](https://colab.research.google.com/assets/colab-badge.svg)](https://colab.research.google.com/github/juanvolpe/voiceJuan/blob/main/colab_spanish_tts.ipynb)\n",
        "\n",
        "This notebook helps you:\n",
        "1. Set up the Spanish voice cloning system\n",
        "2. Upload your voice samples\n",
        "3. Generate Spanish speech with your voice\n",
        "\n",
        "Let us begin with the setup:\n"
      ]
    },
    {
      "cell_type": "code",
      "execution_count": null,
      "metadata": {
        "vscode": {
          "languageId": "plaintext"
        }
      },
      "outputs": [],
      "source": [
        "{\n",
        "  \"nbformat\": 4,\n",
        "  \"nbformat_minor\": 0,\n",
        "  \"metadata\": {\n",
        "    \"colab\": {\n",
        "      \"name\": \"Spanish Voice Cloning with Tortoise TTS\",\n",
        "      \"provenance\": [],\n",
        "      \"collapsed_sections\": [],\n",
        "      \"toc_visible\": true\n",
        "    },\n",
        "    \"kernelspec\": {\n",
        "      \"display_name\": \"Python 3\",\n",
        "      \"name\": \"python3\"\n",
        "    }\n",
        "  },\n",
        "  \"cells\": [\n",
        "    {\n",
        "      \"cell_type\": \"markdown\",\n",
        "      \"metadata\": {\n",
        "        \"id\": \"intro\",\n",
        "        \"colab_type\": \"text\"\n",
        "      },\n",
        "      \"source\": [\n",
        "        \"# Spanish Voice Cloning with Tortoise TTS\\n\",\n",
        "        \"\\n\",\n",
        "        \"[![Open In Colab](https://colab.research.google.com/assets/colab-badge.svg)](https://colab.research.google.com/github/juanvolpe/voiceJuan/blob/main/colab_spanish_tts.ipynb)\\n\",\n",
        "        \"\\n\",\n",
        "        \"This notebook will help you:\\n\",\n",
        "        \"1. Set up the Spanish voice cloning system\\n\",\n",
        "        \"2. Upload your voice samples\\n\",\n",
        "        \"3. Generate Spanish speech with your voice\\n\",\n",
        "        \"\\n\",\n",
        "        \"Let us begin with the setup:\"\n",
        "      ]\n",
        "    },\n",
        "    {\n",
        "      \"cell_type\": \"code\",\n",
        "      \"metadata\": {\n",
        "        \"id\": \"setup\"\n",
        "      },\n",
        "      \"source\": [\n",
        "        \"# Check version and setup\\n\",\n",
        "        \"import requests\\n\",\n",
        "        \"\\n\",\n",
        "        \"def get_latest_commit():\\n\",\n",
        "        \"    repo_api = \\\"https://api.github.com/repos/juanvolpe/voiceJuan/commits/main\\\"\\n\",\n",
        "        \"    response = requests.get(repo_api)\\n\",\n",
        "        \"    if response.status_code == 200:\\n\",\n",
        "        \"        return response.json()['sha']\\n\",\n",
        "        \"    return None\\n\",\n",
        "        \"\\n\",\n",
        "        \"# Clone repository\\n\",\n",
        "        \"!git clone https://github.com/juanvolpe/voiceJuan.git\\n\",\n",
        "        \"%cd voiceJuan\\n\",\n",
        "        \"\\n\",\n",
        "        \"# Check version\\n\",\n",
        "        \"latest_commit = get_latest_commit()\\n\",\n",
        "        \"if latest_commit:\\n\",\n",
        "        \"    print(f\\\"\\\\nLatest GitHub commit: {latest_commit}\\\")\\n\",\n",
        "        \"    print(\\\"\\\\nIf you want the latest version:\\\")\\n\",\n",
        "        \"    print(\\\"1. File → Reset runtime\\\")\\n\",\n",
        "        \"    print(\\\"2. Runtime → Run all\\\")\\n\",\n",
        "        \"\\n\",\n",
        "        \"# Install dependencies\\n\",\n",
        "        \"!pip install -r requirements.txt\"\n",
        "      ],\n",
        "      \"execution_count\": null,\n",
        "      \"outputs\": []\n",
        "    },\n",
        "    {\n",
        "      \"cell_type\": \"markdown\",\n",
        "      \"metadata\": {\n",
        "        \"id\": \"upload_intro\",\n",
        "        \"colab_type\": \"text\"\n",
        "      },\n",
        "      \"source\": [\n",
        "        \"## Upload Voice Samples\\n\",\n",
        "        \"\\n\",\n",
        "        \"Please prepare your WAV files with these requirements:\\n\",\n",
        "        \"- Clear Spanish speech\\n\",\n",
        "        \"- WAV format\\n\",\n",
        "        \"- Good quality audio\\n\",\n",
        "        \"\\n\",\n",
        "        \"Use the \\\"Choose Files\\\" button below to upload your samples:\"\n",
        "      ]\n",
        "    },\n",
        "    {\n",
        "      \"cell_type\": \"code\",\n",
        "      \"metadata\": {\n",
        "        \"id\": \"upload\"\n",
        "      },\n",
        "      \"source\": [\n",
        "        \"from google.colab import files\\n\",\n",
        "        \"import os\\n\",\n",
        "        \"\\n\",\n",
        "        \"# Create directories\\n\",\n",
        "        \"!mkdir -p tortoise/voices/juan_es/samples\\n\",\n",
        "        \"\\n\",\n",
        "        \"# Upload interface\\n\",\n",
        "        \"print(\\\"Please upload your WAV files...\\\")\\n\",\n",
        "        \"uploaded = files.upload()\\n\",\n",
        "        \"\\n\",\n",
        "        \"# Save files\\n\",\n",
        "        \"for filename in uploaded.keys():\\n\",\n",
        "        \"    if filename.endswith('.wav'):\\n\",\n",
        "        \"        path = f'tortoise/voices/juan_es/samples/{filename}'\\n\",\n",
        "        \"        with open(path, 'wb') as f:\\n\",\n",
        "        \"            f.write(uploaded[filename])\\n\",\n",
        "        \"        print(f'Saved {filename}')\\n\",\n",
        "        \"\\n\",\n",
        "        \"# List all uploaded samples\\n\",\n",
        "        \"print(\\\"\\\\nUploaded voice samples:\\\")\\n\",\n",
        "        \"!ls tortoise/voices/juan_es/samples/\"\n",
        "      ],\n",
        "      \"execution_count\": null,\n",
        "      \"outputs\": []\n",
        "    },\n",
        "    {\n",
        "      \"cell_type\": \"markdown\",\n",
        "      \"metadata\": {\n",
        "        \"id\": \"generate_intro\",\n",
        "        \"colab_type\": \"text\"\n",
        "      },\n",
        "      \"source\": [\n",
        "        \"## Generate Speech\\n\",\n",
        "        \"\\n\",\n",
        "        \"Ready to generate speech with your voice samples! You will have two options:\\n\",\n",
        "        \"1. Use existing voice cache (faster)\\n\",\n",
        "        \"2. Reprocess voice samples (choose this if you added new samples)\\n\",\n",
        "        \"\\n\",\n",
        "        \"Run the code below to begin:\"\n",
        "      ]\n",
        "    },\n",
        "    {\n",
        "      \"cell_type\": \"code\",\n",
        "      \"metadata\": {\n",
        "        \"id\": \"generate\"\n",
        "      },\n",
        "      \"source\": [\n",
        "        \"from spanish_tortoise import SpanishTTS\\n\",\n",
        "        \"from IPython.display import Audio\\n\",\n",
        "        \"\\n\",\n",
        "        \"# Initialize TTS\\n\",\n",
        "        \"tts = SpanishTTS()  # Will ask about cache usage\\n\",\n",
        "        \"\\n\",\n",
        "        \"# Get text input\\n\",\n",
        "        \"text = input(\\\"Enter Spanish text: \\\")\\n\",\n",
        "        \"\\n\",\n",
        "        \"# Available presets\\n\",\n",
        "        \"presets = ['ultra_fast', 'fast', 'standard', 'high_quality']\\n\",\n",
        "        \"print(\\\"\\\\nAvailable quality presets:\\\")\\n\",\n",
        "        \"for i, p in enumerate(presets, 1):\\n\",\n",
        "        \"    print(f\\\"{i}. {p}\\\")\\n\",\n",
        "        \"\\n\",\n",
        "        \"# Get preset choice\\n\",\n",
        "        \"while True:\\n\",\n",
        "        \"    choice = input(\\\"\\\\nSelect quality (1-4) [default=2]: \\\").strip()\\n\",\n",
        "        \"    if not choice:\\n\",\n",
        "        \"        preset = 'fast'\\n\",\n",
        "        \"        break\\n\",\n",
        "        \"    try:\\n\",\n",
        "        \"        idx = int(choice) - 1\\n\",\n",
        "        \"        if 0 <= idx < len(presets):\\n\",\n",
        "        \"            preset = presets[idx]\\n\",\n",
        "        \"            break\\n\",\n",
        "        \"    except ValueError:\\n\",\n",
        "        \"        pass\\n\",\n",
        "        \"    print(\\\"Please enter a number between 1 and 4\\\")\\n\",\n",
        "        \"\\n\",\n",
        "        \"# Generate speech\\n\",\n",
        "        \"output_file = tts.generate_speech(text, preset=preset)\\n\",\n",
        "        \"\\n\",\n",
        "        \"# Play the generated audio\\n\",\n",
        "        \"Audio(output_file)\"\n",
        "      ],\n",
        "      \"execution_count\": null,\n",
        "      \"outputs\": []\n",
        "    },\n",
        "    {\n",
        "      \"cell_type\": \"markdown\",\n",
        "      \"metadata\": {\n",
        "        \"id\": \"download_intro\",\n",
        "        \"colab_type\": \"text\"\n",
        "      },\n",
        "      \"source\": [\n",
        "        \"## Download Generated Audio\\n\",\n",
        "        \"\\n\",\n",
        "        \"Click below to save the generated audio file to your computer:\"\n",
        "      ]\n",
        "    },\n",
        "    {\n",
        "      \"cell_type\": \"code\",\n",
        "      \"metadata\": {\n",
        "        \"id\": \"download\"\n",
        "      },\n",
        "      \"source\": [\n",
        "        \"files.download(output_file)\"\n",
        "      ],\n",
        "      \"execution_count\": null,\n",
        "      \"outputs\": []\n",
        "    }\n",
        "  ]\n",
        "}\n"
      ]
    },
    {
      "cell_type": "code",
      "execution_count": null,
      "metadata": {
        "vscode": {
          "languageId": "plaintext"
        }
      },
      "outputs": [],
      "source": [
        "{\n",
        "  \"cell_type\": \"markdown\",\n",
        "  \"metadata\": {\n",
        "    \"id\": \"intro\",\n",
        "    \"colab_type\": \"text\"\n",
        "  },\n",
        "  \"source\": [\n",
        "    \"# Spanish Voice Cloning with Tortoise TTS\\n\",\n",
        "    \"\\n\",\n",
        "    \"[![Open In Colab](https://colab.research.google.com/assets/colab-badge.svg)](https://colab.research.google.com/github/juanvolpe/voiceJuan/blob/main/colab_spanish_tts.ipynb)\\n\",\n",
        "    \"\\n\",\n",
        "    \"This notebook will help you:\\n\",\n",
        "    \"1. Set up the Spanish voice cloning system\\n\",\n",
        "    \"2. Upload your voice samples\\n\",\n",
        "    \"3. Generate Spanish speech with your voice\\n\",\n",
        "    \"\\n\",\n",
        "    \"Let us begin with the setup:\"\n",
        "  ]\n",
        "}\n"
      ]
    },
    {
      "cell_type": "code",
      "execution_count": null,
      "metadata": {
        "vscode": {
          "languageId": "plaintext"
        }
      },
      "outputs": [],
      "source": []
    },
    {
      "cell_type": "code",
      "execution_count": null,
      "metadata": {
        "vscode": {
          "languageId": "plaintext"
        }
      },
      "outputs": [],
      "source": [
        "{\n",
        "  \"cell_type\": \"markdown\",\n",
        "  \"metadata\": {\n",
        "    \"id\": \"upload_section\"\n",
        "  },\n",
        "  \"source\": [\n",
        "    \"## Upload Voice Samples\\n\",\n",
        "    \"\\n\",\n",
        "    \"Please prepare your WAV files with these requirements:\\n\",\n",
        "    \"- Clear Spanish speech\\n\",\n",
        "    \"- WAV format\\n\",\n",
        "    \"- Good quality audio\\n\",\n",
        "    \"\\n\",\n",
        "    \"Use the \\\"Choose Files\\\" button below to upload your samples:\"\n",
        "  ]\n",
        "}\n"
      ]
    },
    {
      "cell_type": "code",
      "execution_count": null,
      "metadata": {},
      "outputs": [],
      "source": [
        "{\n",
        "  \"cell_type\": \"code\",\n",
        "  \"metadata\": {\n",
        "    \"id\": \"upload_code\"\n",
        "  },\n",
        "  \"source\": [\n",
        "    \"from google.colab import files\\n\",\n",
        "    \"import os\\n\",\n",
        "    \"\\n\",\n",
        "    \"# Create directories\\n\",\n",
        "    \"!mkdir -p tortoise/voices/juan_es/samples\\n\",\n",
        "    \"\\n\",\n",
        "    \"# Upload interface\\n\",\n",
        "    \"print(\\\"Please upload your WAV files...\\\")\\n\",\n",
        "    \"uploaded = files.upload()\\n\",\n",
        "    \"\\n\",\n",
        "    \"# Save files\\n\",\n",
        "    \"for filename in uploaded.keys():\\n\",\n",
        "    \"    if filename.endswith('.wav'):\\n\",\n",
        "    \"        path = f'tortoise/voices/juan_es/samples/{filename}'\\n\",\n",
        "    \"        with open(path, 'wb') as f:\\n\",\n",
        "    \"            f.write(uploaded[filename])\\n\",\n",
        "    \"        print(f'Saved {filename}')\\n\",\n",
        "    \"\\n\",\n",
        "    \"# List all uploaded samples\\n\",\n",
        "    \"print(\\\"\\\\nUploaded voice samples:\\\")\\n\",\n",
        "    \"!ls tortoise/voices/juan_es/samples/\"\n",
        "  ],\n",
        "  \"execution_count\": null,\n",
        "  \"outputs\": []\n",
        "}\n"
      ]
    },
    {
      "cell_type": "code",
      "execution_count": null,
      "metadata": {
        "vscode": {
          "languageId": "plaintext"
        }
      },
      "outputs": [],
      "source": [
        "# Spanish Voice Cloning with Tortoise TTS\n",
        "\n",
        "[![Open In Colab](https://colab.research.google.com/assets/colab-badge.svg)](https://colab.research.google.com/github/juanvolpe/voiceJuan/blob/main/colab_spanish_tts.ipynb)\n",
        "\n",
        "This notebook will help you:\n",
        "1. Set up the Spanish voice cloning system\n",
        "2. Upload your voice samples\n",
        "3. Generate Spanish speech with your voice\n",
        "\n",
        "Let us begin with the setup:\n"
      ]
    },
    {
      "cell_type": "code",
      "execution_count": null,
      "metadata": {},
      "outputs": [],
      "source": [
        "{\n",
        " \"cell_type\": \"markdown\",\n",
        " \"metadata\": {\n",
        "   \"id\": \"upload_intro\"\n",
        " },\n",
        " \"source\": [\n",
        "   \"## Upload Voice Samples\\n\",\n",
        "   \"\\n\",\n",
        "   \"Please prepare your WAV files with these requirements:\\n\",\n",
        "   \"- Clear Spanish speech\\n\",\n",
        "   \"- WAV format\\n\",\n",
        "   \"- Good quality audio\\n\",\n",
        "   \"\\n\",\n",
        "   \"Use the \\\"Choose Files\\\" button below to upload your samples:\"\n",
        " ]\n",
        "}\n"
      ]
    },
    {
      "cell_type": "code",
      "execution_count": null,
      "metadata": {},
      "outputs": [],
      "source": [
        "# Check which commit we're using\n",
        "!git clone https://github.com/juanvolpe/voiceJuan.git\n",
        "%cd voiceJuan\n",
        "!git rev-parse HEAD\n",
        "print(\"\\nIf this matches 86c3578751c2981a77e09cb2d61fe4179deb9f92, you're on the latest version!\")\n",
        "\n",
        "# Install dependencies\n",
        "!pip install -r requirements.txt\n"
      ]
    },
    {
      "cell_type": "code",
      "execution_count": null,
      "metadata": {
        "vscode": {
          "languageId": "plaintext"
        }
      },
      "outputs": [],
      "source": [
        "{\n",
        " \"cell_type\": \"markdown\",\n",
        " \"metadata\": {\n",
        "   \"id\": \"generate_intro\"\n",
        " },\n",
        " \"source\": [\n",
        "   \"## Generate Speech\\n\",\n",
        "   \"\\n\",\n",
        "   \"Ready to generate speech with your voice samples! You will have two options:\\n\",\n",
        "   \"1. Use existing voice cache (faster)\\n\",\n",
        "   \"2. Reprocess voice samples (choose this if you added new samples)\\n\",\n",
        "   \"\\n\",\n",
        "   \"Run the code below to begin:\"\n",
        " ]\n",
        "}\n"
      ]
    },
    {
      "cell_type": "code",
      "execution_count": null,
      "metadata": {
        "vscode": {
          "languageId": "plaintext"
        }
      },
      "outputs": [],
      "source": [
        "# Spanish Voice Cloning with Tortoise TTS\n",
        "\n",
        "[![Open In Colab](https://colab.research.google.com/assets/colab-badge.svg)](https://colab.research.google.com/github/juanvolpe/voiceJuan/blob/main/colab_spanish_tts.ipynb)\n",
        "\n",
        "This notebook will help you:\n",
        "1. Set up the Spanish voice cloning system\n",
        "2. Upload your voice samples\n",
        "3. Generate Spanish speech with your voice\n",
        "\n",
        "Let us set up the environment:\n"
      ]
    },
    {
      "cell_type": "code",
      "execution_count": null,
      "metadata": {
        "vscode": {
          "languageId": "plaintext"
        }
      },
      "outputs": [],
      "source": [
        "{\n",
        " \"cell_type\": \"markdown\",\n",
        " \"metadata\": {\n",
        "   \"id\": \"download_intro\"\n",
        " },\n",
        " \"source\": [\n",
        "   \"## Download Generated Audio\\n\",\n",
        "   \"\\n\",\n",
        "   \"Click below to save the generated audio file to your computer:\"\n",
        " ]\n",
        "}\n"
      ]
    },
    {
      "cell_type": "code",
      "execution_count": null,
      "metadata": {
        "vscode": {
          "languageId": "plaintext"
        }
      },
      "outputs": [],
      "source": [
        "## Upload Voice Samples\n",
        "\n",
        "Please prepare your WAV files with these requirements:\n",
        "- Clear Spanish speech\n",
        "- WAV format\n",
        "- Good quality audio\n",
        "\n",
        "Use the \"Choose Files\" button below to upload your samples:\n"
      ]
    },
    {
      "cell_type": "code",
      "execution_count": null,
      "metadata": {
        "vscode": {
          "languageId": "plaintext"
        }
      },
      "outputs": [],
      "source": [
        "# Spanish Voice Cloning with Tortoise TTS\n",
        "\n",
        "[![Open In Colab](https://colab.research.google.com/assets/colab-badge.svg)](https://colab.research.google.com/github/juanvolpe/voiceJuan/blob/main/colab_spanish_tts.ipynb)\n",
        "\n",
        "This notebook will help you:\n",
        "1. Set up the Spanish voice cloning system\n",
        "2. Upload your voice samples\n",
        "3. Generate Spanish speech with your voice\n",
        "\n",
        "First, let's set up the environment:\n"
      ]
    },
    {
      "cell_type": "code",
      "execution_count": null,
      "metadata": {},
      "outputs": [],
      "source": [
        "## Generate Speech\n",
        "\n",
        "Ready to generate speech with your voice samples! You will have two options:\n",
        "1. Use existing voice cache (faster)\n",
        "2. Reprocess voice samples (choose this if you added new samples)\n",
        "\n",
        "Run the code below to begin:\n"
      ]
    },
    {
      "cell_type": "code",
      "execution_count": null,
      "metadata": {},
      "outputs": [],
      "source": [
        "# Clone the repository and install dependencies\n",
        "!git clone https://github.com/juanvolpe/voiceJuan.git\n",
        "%cd voiceJuan\n",
        "!pip install -r requirements.txt\n"
      ]
    },
    {
      "cell_type": "code",
      "execution_count": null,
      "metadata": {
        "vscode": {
          "languageId": "plaintext"
        }
      },
      "outputs": [],
      "source": [
        "## Download Generated Audio\n",
        "\n",
        "Click below to save the generated audio file to your computer:\n"
      ]
    },
    {
      "cell_type": "code",
      "execution_count": null,
      "metadata": {
        "vscode": {
          "languageId": "plaintext"
        }
      },
      "outputs": [],
      "source": [
        "## Upload Voice Samples\n",
        "\n",
        "Now you can upload your WAV files. Make sure they are:\n",
        "- Clear Spanish speech\n",
        "- WAV format\n",
        "- Good quality audio\n",
        "\n",
        "Run the cell below and use the 'Choose Files' button to upload your samples:\n"
      ]
    },
    {
      "cell_type": "code",
      "execution_count": null,
      "metadata": {},
      "outputs": [],
      "source": [
        "from google.colab import files\n",
        "import os\n",
        "\n",
        "# Create directories\n",
        "!mkdir -p tortoise/voices/juan_es/samples\n",
        "\n",
        "# Upload interface\n",
        "print(\"Please upload your WAV files...\")\n",
        "uploaded = files.upload()\n",
        "\n",
        "# Save files\n",
        "for filename in uploaded.keys():\n",
        "    if filename.endswith('.wav'):\n",
        "        path = f'tortoise/voices/juan_es/samples/{filename}'\n",
        "        with open(path, 'wb') as f:\n",
        "            f.write(uploaded[filename])\n",
        "        print(f'Saved {filename}')\n",
        "\n",
        "# List all uploaded samples\n",
        "print(\"\\nUploaded voice samples:\")\n",
        "!ls tortoise/voices/juan_es/samples/\n"
      ]
    },
    {
      "cell_type": "code",
      "execution_count": null,
      "metadata": {
        "vscode": {
          "languageId": "plaintext"
        }
      },
      "outputs": [],
      "source": [
        "## Generate Speech\n",
        "\n",
        "Now you can generate speech using your voice samples. The system will ask if you want to:\n",
        "1. Use existing voice cache (faster)\n",
        "2. Reprocess voice samples (use if you've added new samples)\n",
        "\n",
        "Run the cell below to start generating:\n"
      ]
    },
    {
      "cell_type": "code",
      "execution_count": null,
      "metadata": {},
      "outputs": [],
      "source": [
        "from spanish_tortoise import SpanishTTS\n",
        "from IPython.display import Audio\n",
        "\n",
        "# Initialize TTS\n",
        "tts = SpanishTTS()  # Will ask about cache usage\n",
        "\n",
        "# Get text input\n",
        "text = input(\"Enter Spanish text: \")\n",
        "\n",
        "# Available presets\n",
        "presets = ['ultra_fast', 'fast', 'standard', 'high_quality']\n",
        "print(\"\\nAvailable quality presets:\")\n",
        "for i, p in enumerate(presets, 1):\n",
        "    print(f\"{i}. {p}\")\n",
        "\n",
        "# Get preset choice\n",
        "while True:\n",
        "    choice = input(\"\\nSelect quality (1-4) [default=2]: \").strip()\n",
        "    if not choice:\n",
        "        preset = 'fast'\n",
        "        break\n",
        "    try:\n",
        "        idx = int(choice) - 1\n",
        "        if 0 <= idx < len(presets):\n",
        "            preset = presets[idx]\n",
        "            break\n",
        "    except ValueError:\n",
        "        pass\n",
        "    print(\"Please enter a number between 1 and 4\")\n",
        "\n",
        "# Generate speech\n",
        "output_file = tts.generate_speech(text, preset=preset)\n",
        "\n",
        "# Play the generated audio\n",
        "Audio(output_file)\n"
      ]
    },
    {
      "cell_type": "code",
      "execution_count": null,
      "metadata": {
        "vscode": {
          "languageId": "plaintext"
        }
      },
      "outputs": [],
      "source": [
        "## Download Generated Audio\n",
        "\n",
        "You can download the generated audio file:\n"
      ]
    },
    {
      "cell_type": "code",
      "execution_count": null,
      "metadata": {},
      "outputs": [],
      "source": [
        "files.download(output_file)\n"
      ]
    },
    {
      "cell_type": "code",
      "execution_count": null,
      "metadata": {
        "vscode": {
          "languageId": "plaintext"
        }
      },
      "outputs": [],
      "source": [
        "\n"
      ]
    },
    {
      "cell_type": "code",
      "execution_count": null,
      "metadata": {
        "vscode": {
          "languageId": "plaintext"
        }
      },
      "outputs": [],
      "source": [
        "# Spanish Voice Cloning with Tortoise TTS\n",
        "\n",
        "[![Open In Colab](https://colab.research.google.com/assets/colab-badge.svg)](https://colab.research.google.com/github/juanvolpe/voiceJuan/blob/main/colab_spanish_tts.ipynb)\n",
        "\n",
        "This notebook will help you:\n",
        "1. Set up the Spanish voice cloning system\n",
        "2. Upload your voice samples\n",
        "3. Generate Spanish speech with your voice\n",
        "\n",
        "First, let's set up the environment:\n"
      ]
    },
    {
      "cell_type": "code",
      "execution_count": null,
      "metadata": {},
      "outputs": [],
      "source": [
        "# Clone the repository\n",
        "!git clone https://github.com/juanvolpe/voiceJuan.git\n",
        "%cd voiceJuan\n",
        "\n",
        "# Install dependencies\n",
        "!pip install -r requirements.txt\n"
      ]
    },
    {
      "cell_type": "code",
      "execution_count": null,
      "metadata": {},
      "outputs": [],
      "source": [
        "## Upload Voice Samples\n",
        "\n",
        "Now you can upload your WAV files. Make sure they are:\n",
        "- Clear Spanish speech\n",
        "- WAV format\n",
        "- Good quality audio\n",
        "\n",
        "Run the cell below and use the 'Choose Files' button to upload your samples:\n"
      ]
    },
    {
      "cell_type": "code",
      "execution_count": null,
      "metadata": {},
      "outputs": [],
      "source": [
        "from google.colab import files\n",
        "import os\n",
        "\n",
        "# Create directories\n",
        "!mkdir -p tortoise/voices/juan_es/samples\n",
        "\n",
        "# Upload interface\n",
        "print(\"Please upload your WAV files...\")\n",
        "uploaded = files.upload()\n",
        "\n",
        "# Save files\n",
        "for filename in uploaded.keys():\n",
        "    if filename.endswith('.wav'):\n",
        "        path = f'tortoise/voices/juan_es/samples/{filename}'\n",
        "        with open(path, 'wb') as f:\n",
        "            f.write(uploaded[filename])\n",
        "        print(f'Saved {filename}')\n",
        "\n",
        "# List all uploaded samples\n",
        "print(\"\\nUploaded voice samples:\")\n",
        "!ls tortoise/voices/juan_es/samples/\n"
      ]
    },
    {
      "cell_type": "code",
      "execution_count": null,
      "metadata": {},
      "outputs": [],
      "source": [
        "## Generate Speech\n",
        "\n",
        "Now you can generate speech using your voice samples. The system will ask if you want to:\n",
        "1. Use existing voice cache (faster)\n",
        "2. Reprocess voice samples (use if you've added new samples)\n",
        "\n",
        "Run the cell below to start generating:\n"
      ]
    },
    {
      "cell_type": "code",
      "execution_count": null,
      "metadata": {},
      "outputs": [],
      "source": [
        "from spanish_tortoise import SpanishTTS\n",
        "from IPython.display import Audio\n",
        "\n",
        "# Initialize TTS\n",
        "tts = SpanishTTS()  # Will ask about cache usage\n",
        "\n",
        "# Get text input\n",
        "text = input(\"Enter Spanish text: \")\n",
        "\n",
        "# Available presets\n",
        "presets = ['ultra_fast', 'fast', 'standard', 'high_quality']\n",
        "print(\"\\nAvailable quality presets:\")\n",
        "for i, p in enumerate(presets, 1):\n",
        "    print(f\"{i}. {p}\")\n",
        "\n",
        "# Get preset choice\n",
        "while True:\n",
        "    choice = input(\"\\nSelect quality (1-4) [default=2]: \").strip()\n",
        "    if not choice:\n",
        "        preset = 'fast'\n",
        "        break\n",
        "    try:\n",
        "        idx = int(choice) - 1\n",
        "        if 0 <= idx < len(presets):\n",
        "            preset = presets[idx]\n",
        "            break\n",
        "    except ValueError:\n",
        "        pass\n",
        "    print(\"Please enter a number between 1 and 4\")\n",
        "\n",
        "# Generate speech\n",
        "output_file = tts.generate_speech(text, preset=preset)\n",
        "\n",
        "# Play the generated audio\n",
        "Audio(output_file)\n"
      ]
    },
    {
      "cell_type": "code",
      "execution_count": null,
      "metadata": {},
      "outputs": [],
      "source": [
        "## Download Generated Audio\n",
        "\n",
        "You can download the generated audio file:\n"
      ]
    },
    {
      "cell_type": "code",
      "execution_count": null,
      "metadata": {},
      "outputs": [],
      "source": [
        "files.download(output_file)\n"
      ]
    }
  ],
  "metadata": {
    "language_info": {
      "name": "python"
    }
  },
  "nbformat": 4,
  "nbformat_minor": 2
}
