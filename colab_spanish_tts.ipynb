{
  "nbformat": 4,
  "nbformat_minor": 0,
  "metadata": {
    "colab": {
      "name": "Spanish Voice Cloning with Tortoise TTS",
      "provenance": [],
      "collapsed_sections": [],
      "toc_visible": true
    },
    "kernelspec": {
      "name": "python3",
      "display_name": "Python 3"
    },
    "language_info": {
      "name": "python"
    },
    "accelerator": "GPU"
  },
  "cells": [
    {
      "cell_type": "markdown",
      "metadata": {
        "id": "intro"
      },
      "source": [
        "# Spanish Voice Cloning with Tortoise TTS\n",
        "\n",
        "[![Open In Colab](https://colab.research.google.com/assets/colab-badge.svg)](https://colab.research.google.com/github/juanvolpe/voiceJuan/blob/main/colab_spanish_tts.ipynb)\n",
        "\n",
        "This notebook will help you:\n",
        "1. Set up the Spanish voice cloning system\n",
        "2. Upload your voice samples\n",
        "3. Generate Spanish speech with your voice"
      ]
    },
    {
      "cell_type": "markdown",
      "metadata": {
        "id": "token_setup"
      },
      "source": [
        "## Hugging Face Token Setup\n",
        "\n",
        "This notebook requires your Hugging Face token to download models.\n",
        "The token must be set in your Colab secrets as 'HF_TOKEN'.\n",
        "\n",
        "To add your token to Colab secrets:\n",
        "1. Click the folder icon on the left sidebar\n",
        "2. Click the key icon \ud83d\udd11 to open secrets\n",
        "3. Add a new secret with:\n",
        "   - Name: `HF_TOKEN`\n",
        "   - Value: Your Hugging Face token\n",
        "\n",
        "Let's check if your token is set correctly:"
      ]
    },
    {
      "cell_type": "code",
      "metadata": {
        "id": "token_check"
      },
      "source": [
        "# Get Hugging Face token from Colab secrets\n",
        "import os\n",
        "from google.colab import userdata\n",
        "\n",
        "try:\n",
        "    # Get token from Colab secrets\n",
        "    token = userdata.get('HF_TOKEN')\n",
        "    if not token:\n",
        "        raise ValueError(\n",
        "            \"\u274c HF_TOKEN not found in Colab secrets!\\n\"\n",
        "            \"Please add your Hugging Face token to Colab secrets as 'HF_TOKEN'\"\n",
        "        )\n",
        "    \n",
        "    # Set for use in the TTS system\n",
        "    os.environ['HF_TOKEN'] = token\n",
        "    print(\"\u2705 Found HF token in Colab secrets!\")\n",
        "    print(\"\ud83d\ude80 Token set successfully! Ready to proceed.\")\n",
        "except Exception as e:\n",
        "    print(f\"\u274c Error: {str(e)}\")\n",
        "    raise  # Stop execution if no token"
      ],
      "execution_count": null,
      "outputs": []
    },
    {
      "cell_type": "code",
      "metadata": {
        "id": "setup"
      },
      "source": [
        "# Clone repository and install dependencies\n",
        "!git clone https://github.com/juanvolpe/voiceJuan.git\n",
        "%cd voiceJuan\n",
        "\n",
        "# Add current directory to Python path\n",
        "import sys\n",
        "sys.path.append('.')\n",
        "\n",
        "print(\"\\n\ud83d\udce6 Installing dependencies...\")\n",
        "# First install TTS explicitly\n",
        "!pip install -q TTS\n",
        "# Then install other requirements\n",
        "!pip install -q -r requirements.txt\n",
        "\n",
        "# Verify TTS installation\n",
        "print(\"\\n\ud83d\udd0d Verifying TTS installation...\")\n",
        "!pip list | grep TTS\n",
        "\n",
        "# Restart runtime to ensure TTS is properly loaded\n",
        "print(\"\\n\ud83d\udd04 Restarting runtime to complete setup...\")\n",
        "print(\"Please run this cell again after the restart.\")\n",
        "import IPython\n",
        "IPython.get_ipython().kernel.do_shutdown(True)"
      ],
      "execution_count": null,
      "outputs": []
    },
    {
      "cell_type": "code",
      "metadata": {
        "id": "verify_path"
      },
      "source": [
        "# Verify Python path is set correctly\n",
        "import sys\n",
        "if '.' not in sys.path:\n",
        "    sys.path.append('.')\n",
        "print(\"\u2705 Python path set up correctly!\")"
      ],
      "execution_count": null,
      "outputs": []
    },
    {
      "cell_type": "code",
      "metadata": {
        "id": "verify_tts"
      },
      "source": [
        "# List available TTS models\n",
        "from TTS.api import TTS\n",
        "\n",
        "print(\"\ud83d\udccb Available TTS models:\")\n",
        "print(\"\\nMultilingual models:\")\n",
        "for model in TTS.list_models():\n",
        "    if \"multilingual\" in model and \"multi-dataset\" in model:\n",
        "        print(f\"- {model}\")\n",
        "\n",
        "print(\"\\nSpanish models:\")\n",
        "for model in TTS.list_models():\n",
        "    if \"es\" in model:\n",
        "        print(f\"- {model}\")"
      ],
      "execution_count": null,
      "outputs": []
    },
    {
      "cell_type": "markdown",
      "metadata": {
        "id": "upload_intro"
      },
      "source": [
        "## Upload Voice Samples\n",
        "\n",
        "Please prepare your WAV files with these requirements:\n",
        "- Clear Spanish speech\n",
        "- WAV format (22050 Hz)\n",
        "- Good quality audio (no background noise)\n",
        "- 3-10 seconds per sample\n",
        "\n",
        "Use the \"Choose Files\" button below to upload your samples:"
      ]
    },
    {
      "cell_type": "code",
      "metadata": {
        "id": "upload"
      },
      "source": [
        "from google.colab import files\n",
        "import os\n",
        "\n",
        "# Create directories\n",
        "!mkdir -p tortoise/voices/juan_es/samples\n",
        "\n",
        "# Upload interface\n",
        "print(\"\ud83d\udcc2 Please upload your WAV files...\")\n",
        "uploaded = files.upload()\n",
        "\n",
        "# Save files\n",
        "for filename in uploaded.keys():\n",
        "    if filename.endswith('.wav'):\n",
        "        path = f'tortoise/voices/juan_es/samples/{filename}'\n",
        "        with open(path, 'wb') as f:\n",
        "            f.write(uploaded[filename])\n",
        "        print(f'\u2705 Saved {filename}')\n",
        "    else:\n",
        "        print(f'\u274c Skipped {filename} - not a WAV file')\n",
        "\n",
        "# List all uploaded samples\n",
        "print(\"\\n\ud83d\udcca Uploaded voice samples:\")\n",
        "!ls tortoise/voices/juan_es/samples/"
      ],
      "execution_count": null,
      "outputs": []
    },
    {
      "cell_type": "markdown",
      "metadata": {
        "id": "generate_intro"
      },
      "source": [
        "## Generate Speech\n",
        "\n",
        "Ready to generate speech with your voice samples! You will have two options:\n",
        "1. Use existing voice cache (faster)\n",
        "2. Reprocess voice samples (choose this if you added new samples)\n",
        "\n",
        "Available quality presets:\n",
        "- `ultra_fast`: Quick results, lower quality\n",
        "- `fast`: Good balance of speed/quality\n",
        "- `standard`: Better quality, slower\n",
        "- `high_quality`: Best quality, slowest\n",
        "\n",
        "Run the code below to begin:"
      ]
    },
    {
      "cell_type": "code",
      "metadata": {
        "id": "generate"
      },
      "source": [
        "from voiceJuan.spanish_tortoise import SpanishTTS\n",
        "from IPython.display import Audio\n",
        "\n",
        "# Initialize TTS\n",
        "print(\"\ud83c\udf99\ufe0f Initializing TTS system...\")\n",
        "tts = SpanishTTS()  # Will ask about cache usage\n",
        "\n",
        "# Get text input\n",
        "text = input(\"\u270d\ufe0f Enter Spanish text: \")\n",
        "\n",
        "# Available presets\n",
        "presets = ['ultra_fast', 'fast', 'standard', 'high_quality']\n",
        "print(\"\\n\u2699\ufe0f Available quality presets:\")\n",
        "for i, p in enumerate(presets, 1):\n",
        "    print(f\"{i}. {p}\")\n",
        "\n",
        "# Get preset choice\n",
        "while True:\n",
        "    choice = input(\"\\n\ud83c\udf9a\ufe0f Select quality (1-4) [default=2]: \").strip()\n",
        "    if not choice:\n",
        "        preset = 'fast'\n",
        "        break\n",
        "    try:\n",
        "        idx = int(choice) - 1\n",
        "        if 0 <= idx < len(presets):\n",
        "            preset = presets[idx]\n",
        "            break\n",
        "    except ValueError:\n",
        "        pass\n",
        "    print(\"\u274c Please enter a number between 1 and 4\")\n",
        "\n",
        "print(f\"\\n\ud83c\udfb5 Generating speech with '{preset}' preset...\")\n",
        "output_file = tts.generate_speech(text, preset=preset)\n",
        "\n",
        "print(\"\\n\ud83d\udd0a Playing generated audio:\")\n",
        "Audio(output_file)"
      ],
      "execution_count": null,
      "outputs": []
    },
    {
      "cell_type": "markdown",
      "metadata": {
        "id": "download_intro"
      },
      "source": [
        "## Download Generated Audio\n",
        "\n",
        "Click below to save the generated audio file to your computer:"
      ]
    },
    {
      "cell_type": "code",
      "metadata": {
        "id": "download"
      },
      "source": [
        "print(\"\ud83d\udcbe Starting download...\")\n",
        "files.download(output_file)\n",
        "print(\"\u2705 Download complete!\")"
      ],
      "execution_count": null,
      "outputs": []
    }
  ]
}