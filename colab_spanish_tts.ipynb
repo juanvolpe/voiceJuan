{
  "nbformat": 4,
  "nbformat_minor": 0,
  "metadata": {
    "colab": {
      "name": "Spanish Voice Cloning with Tortoise TTS",
      "provenance": [],
      "collapsed_sections": []
    },
    "kernelspec": {
      "name": "python3",
      "display_name": "Python 3"
    }
  },
  "cells": [
    {
      "cell_type": "markdown",
      "metadata": {
        "id": "title",
        "colab_type": "text"
      },
      "source": [
        "# Spanish Voice Cloning with Tortoise TTS\n",
        "\n",
        "<a href=\"https://colab.research.google.com/github/juanvolpe/voiceJuan/blob/main/colab_spanish_tts.ipynb\" target=\"_parent\">\n",
        "  <img src=\"https://colab.research.google.com/assets/colab-badge.svg\" alt=\"Open In Colab\"/>\n",
        "</a>\n",
        "\n",
        "This notebook will help you:\n",
        "1. Set up the Spanish voice cloning system\n",
        "2. Upload your voice samples\n",
        "3. Generate Spanish speech with your voice\n",
        "\n",
        "Let us begin with the setup:"
      ]
    },
    {
      "cell_type": "code",
      "metadata": {
        "id": "setup"
      },
      "source": [
        "# Check version and setup\n",
        "import requests\n",
        "\n",
        "def get_latest_commit():\n",
        "    repo_api = \"https://api.github.com/repos/juanvolpe/voiceJuan/commits/main\"\n",
        "    response = requests.get(repo_api)\n",
        "    if response.status_code == 200:\n",
        "        return response.json()['sha']\n",
        "    return None\n",
        "\n",
        "# Clone repository\n",
        "!git clone https://github.com/juanvolpe/voiceJuan.git\n",
        "%cd voiceJuan\n",
        "\n",
        "# Check version\n",
        "latest_commit = get_latest_commit()\n",
        "if latest_commit:\n",
        "    print(f\"\\nLatest GitHub commit: {latest_commit}\")\n",
        "    print(\"\\nIf you want the latest version:\")\n",
        "    print(\"1. File \u2192 Reset runtime\")\n",
        "    print(\"2. Runtime \u2192 Run all\")\n",
        "\n",
        "# Install dependencies\n",
        "!pip install -r requirements.txt"
      ],
      "execution_count": null,
      "outputs": []
    }
  ]
}