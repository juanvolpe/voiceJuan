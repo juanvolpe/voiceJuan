{
  "cells": [
    {
      "cell_type": "code",
      "execution_count": null,
      "metadata": {
        "vscode": {
          "languageId": "plaintext"
        }
      },
      "outputs": [],
      "source": [
        "{\n",
        " \"cell_type\": \"markdown\",\n",
        " \"metadata\": {\n",
        "   \"id\": \"intro\"\n",
        " },\n",
        " \"source\": [\n",
        "   \"# Spanish Voice Cloning with Tortoise TTS\\n\",\n",
        "   \"\\n\",\n",
        "   \"[![Open In Colab](https://colab.research.google.com/assets/colab-badge.svg)](https://colab.research.google.com/github/juanvolpe/voiceJuan/blob/main/colab_spanish_tts.ipynb)\\n\",\n",
        "   \"\\n\",\n",
        "   \"This notebook will help you:\\n\",\n",
        "   \"1. Set up the Spanish voice cloning system\\n\",\n",
        "   \"2. Upload your voice samples\\n\",\n",
        "   \"3. Generate Spanish speech with your voice\\n\",\n",
        "   \"\\n\",\n",
        "   \"First, let's set up the environment:\"\n",
        " ]\n",
        "}\n"
      ]
    },
    {
      "cell_type": "code",
      "execution_count": null,
      "metadata": {
        "vscode": {
          "languageId": "plaintext"
        }
      },
      "outputs": [],
      "source": [
        "# Spanish Voice Cloning with Tortoise TTS\n",
        "\n",
        "[![Open In Colab](https://colab.research.google.com/assets/colab-badge.svg)](https://colab.research.google.com/github/juanvolpe/voiceJuan/blob/main/colab_spanish_tts.ipynb)\n",
        "\n",
        "This notebook will help you:\n",
        "1. Set up the Spanish voice cloning system\n",
        "2. Upload your voice samples\n",
        "3. Generate Spanish speech with your voice\n",
        "\n",
        "Let us begin with the setup:\n"
      ]
    },
    {
      "cell_type": "code",
      "execution_count": null,
      "metadata": {},
      "outputs": [],
      "source": [
        "{\n",
        " \"cell_type\": \"markdown\",\n",
        " \"metadata\": {\n",
        "   \"id\": \"upload_intro\"\n",
        " },\n",
        " \"source\": [\n",
        "   \"## Upload Voice Samples\\n\",\n",
        "   \"\\n\",\n",
        "   \"Please prepare your WAV files with these requirements:\\n\",\n",
        "   \"- Clear Spanish speech\\n\",\n",
        "   \"- WAV format\\n\",\n",
        "   \"- Good quality audio\\n\",\n",
        "   \"\\n\",\n",
        "   \"Use the \\\"Choose Files\\\" button below to upload your samples:\"\n",
        " ]\n",
        "}\n"
      ]
    },
    {
      "cell_type": "code",
      "execution_count": null,
      "metadata": {},
      "outputs": [],
      "source": [
        "# Check which commit we're using\n",
        "!git clone https://github.com/juanvolpe/voiceJuan.git\n",
        "%cd voiceJuan\n",
        "!git rev-parse HEAD\n",
        "print(\"\\nIf this matches 86c3578751c2981a77e09cb2d61fe4179deb9f92, you're on the latest version!\")\n",
        "\n",
        "# Install dependencies\n",
        "!pip install -r requirements.txt\n"
      ]
    },
    {
      "cell_type": "code",
      "execution_count": null,
      "metadata": {
        "vscode": {
          "languageId": "plaintext"
        }
      },
      "outputs": [],
      "source": [
        "{\n",
        " \"cell_type\": \"markdown\",\n",
        " \"metadata\": {\n",
        "   \"id\": \"generate_intro\"\n",
        " },\n",
        " \"source\": [\n",
        "   \"## Generate Speech\\n\",\n",
        "   \"\\n\",\n",
        "   \"Ready to generate speech with your voice samples! You will have two options:\\n\",\n",
        "   \"1. Use existing voice cache (faster)\\n\",\n",
        "   \"2. Reprocess voice samples (choose this if you added new samples)\\n\",\n",
        "   \"\\n\",\n",
        "   \"Run the code below to begin:\"\n",
        " ]\n",
        "}\n"
      ]
    },
    {
      "cell_type": "code",
      "execution_count": null,
      "metadata": {
        "vscode": {
          "languageId": "plaintext"
        }
      },
      "outputs": [],
      "source": [
        "# Spanish Voice Cloning with Tortoise TTS\n",
        "\n",
        "[![Open In Colab](https://colab.research.google.com/assets/colab-badge.svg)](https://colab.research.google.com/github/juanvolpe/voiceJuan/blob/main/colab_spanish_tts.ipynb)\n",
        "\n",
        "This notebook will help you:\n",
        "1. Set up the Spanish voice cloning system\n",
        "2. Upload your voice samples\n",
        "3. Generate Spanish speech with your voice\n",
        "\n",
        "Let us set up the environment:\n"
      ]
    },
    {
      "cell_type": "code",
      "execution_count": null,
      "metadata": {
        "vscode": {
          "languageId": "plaintext"
        }
      },
      "outputs": [],
      "source": [
        "{\n",
        " \"cell_type\": \"markdown\",\n",
        " \"metadata\": {\n",
        "   \"id\": \"download_intro\"\n",
        " },\n",
        " \"source\": [\n",
        "   \"## Download Generated Audio\\n\",\n",
        "   \"\\n\",\n",
        "   \"Click below to save the generated audio file to your computer:\"\n",
        " ]\n",
        "}\n"
      ]
    },
    {
      "cell_type": "code",
      "execution_count": null,
      "metadata": {
        "vscode": {
          "languageId": "plaintext"
        }
      },
      "outputs": [],
      "source": [
        "## Upload Voice Samples\n",
        "\n",
        "Please prepare your WAV files with these requirements:\n",
        "- Clear Spanish speech\n",
        "- WAV format\n",
        "- Good quality audio\n",
        "\n",
        "Use the \"Choose Files\" button below to upload your samples:\n"
      ]
    },
    {
      "cell_type": "code",
      "execution_count": null,
      "metadata": {
        "vscode": {
          "languageId": "plaintext"
        }
      },
      "outputs": [],
      "source": [
        "# Spanish Voice Cloning with Tortoise TTS\n",
        "\n",
        "[![Open In Colab](https://colab.research.google.com/assets/colab-badge.svg)](https://colab.research.google.com/github/juanvolpe/voiceJuan/blob/main/colab_spanish_tts.ipynb)\n",
        "\n",
        "This notebook will help you:\n",
        "1. Set up the Spanish voice cloning system\n",
        "2. Upload your voice samples\n",
        "3. Generate Spanish speech with your voice\n",
        "\n",
        "First, let's set up the environment:\n"
      ]
    },
    {
      "cell_type": "code",
      "execution_count": null,
      "metadata": {},
      "outputs": [],
      "source": [
        "## Generate Speech\n",
        "\n",
        "Ready to generate speech with your voice samples! You will have two options:\n",
        "1. Use existing voice cache (faster)\n",
        "2. Reprocess voice samples (choose this if you added new samples)\n",
        "\n",
        "Run the code below to begin:\n"
      ]
    },
    {
      "cell_type": "code",
      "execution_count": null,
      "metadata": {},
      "outputs": [],
      "source": [
        "# Clone the repository and install dependencies\n",
        "!git clone https://github.com/juanvolpe/voiceJuan.git\n",
        "%cd voiceJuan\n",
        "!pip install -r requirements.txt\n"
      ]
    },
    {
      "cell_type": "code",
      "execution_count": null,
      "metadata": {
        "vscode": {
          "languageId": "plaintext"
        }
      },
      "outputs": [],
      "source": [
        "## Download Generated Audio\n",
        "\n",
        "Click below to save the generated audio file to your computer:\n"
      ]
    },
    {
      "cell_type": "code",
      "execution_count": null,
      "metadata": {
        "vscode": {
          "languageId": "plaintext"
        }
      },
      "outputs": [],
      "source": [
        "## Upload Voice Samples\n",
        "\n",
        "Now you can upload your WAV files. Make sure they are:\n",
        "- Clear Spanish speech\n",
        "- WAV format\n",
        "- Good quality audio\n",
        "\n",
        "Run the cell below and use the 'Choose Files' button to upload your samples:\n"
      ]
    },
    {
      "cell_type": "code",
      "execution_count": null,
      "metadata": {},
      "outputs": [],
      "source": [
        "from google.colab import files\n",
        "import os\n",
        "\n",
        "# Create directories\n",
        "!mkdir -p tortoise/voices/juan_es/samples\n",
        "\n",
        "# Upload interface\n",
        "print(\"Please upload your WAV files...\")\n",
        "uploaded = files.upload()\n",
        "\n",
        "# Save files\n",
        "for filename in uploaded.keys():\n",
        "    if filename.endswith('.wav'):\n",
        "        path = f'tortoise/voices/juan_es/samples/{filename}'\n",
        "        with open(path, 'wb') as f:\n",
        "            f.write(uploaded[filename])\n",
        "        print(f'Saved {filename}')\n",
        "\n",
        "# List all uploaded samples\n",
        "print(\"\\nUploaded voice samples:\")\n",
        "!ls tortoise/voices/juan_es/samples/\n"
      ]
    },
    {
      "cell_type": "code",
      "execution_count": null,
      "metadata": {
        "vscode": {
          "languageId": "plaintext"
        }
      },
      "outputs": [],
      "source": [
        "## Generate Speech\n",
        "\n",
        "Now you can generate speech using your voice samples. The system will ask if you want to:\n",
        "1. Use existing voice cache (faster)\n",
        "2. Reprocess voice samples (use if you've added new samples)\n",
        "\n",
        "Run the cell below to start generating:\n"
      ]
    },
    {
      "cell_type": "code",
      "execution_count": null,
      "metadata": {},
      "outputs": [],
      "source": [
        "from spanish_tortoise import SpanishTTS\n",
        "from IPython.display import Audio\n",
        "\n",
        "# Initialize TTS\n",
        "tts = SpanishTTS()  # Will ask about cache usage\n",
        "\n",
        "# Get text input\n",
        "text = input(\"Enter Spanish text: \")\n",
        "\n",
        "# Available presets\n",
        "presets = ['ultra_fast', 'fast', 'standard', 'high_quality']\n",
        "print(\"\\nAvailable quality presets:\")\n",
        "for i, p in enumerate(presets, 1):\n",
        "    print(f\"{i}. {p}\")\n",
        "\n",
        "# Get preset choice\n",
        "while True:\n",
        "    choice = input(\"\\nSelect quality (1-4) [default=2]: \").strip()\n",
        "    if not choice:\n",
        "        preset = 'fast'\n",
        "        break\n",
        "    try:\n",
        "        idx = int(choice) - 1\n",
        "        if 0 <= idx < len(presets):\n",
        "            preset = presets[idx]\n",
        "            break\n",
        "    except ValueError:\n",
        "        pass\n",
        "    print(\"Please enter a number between 1 and 4\")\n",
        "\n",
        "# Generate speech\n",
        "output_file = tts.generate_speech(text, preset=preset)\n",
        "\n",
        "# Play the generated audio\n",
        "Audio(output_file)\n"
      ]
    },
    {
      "cell_type": "code",
      "execution_count": null,
      "metadata": {
        "vscode": {
          "languageId": "plaintext"
        }
      },
      "outputs": [],
      "source": [
        "## Download Generated Audio\n",
        "\n",
        "You can download the generated audio file:\n"
      ]
    },
    {
      "cell_type": "code",
      "execution_count": null,
      "metadata": {},
      "outputs": [],
      "source": [
        "files.download(output_file)\n"
      ]
    },
    {
      "cell_type": "code",
      "execution_count": null,
      "metadata": {
        "vscode": {
          "languageId": "plaintext"
        }
      },
      "outputs": [],
      "source": [
        "\n"
      ]
    },
    {
      "cell_type": "code",
      "execution_count": null,
      "metadata": {
        "vscode": {
          "languageId": "plaintext"
        }
      },
      "outputs": [],
      "source": [
        "# Spanish Voice Cloning with Tortoise TTS\n",
        "\n",
        "[![Open In Colab](https://colab.research.google.com/assets/colab-badge.svg)](https://colab.research.google.com/github/juanvolpe/voiceJuan/blob/main/colab_spanish_tts.ipynb)\n",
        "\n",
        "This notebook will help you:\n",
        "1. Set up the Spanish voice cloning system\n",
        "2. Upload your voice samples\n",
        "3. Generate Spanish speech with your voice\n",
        "\n",
        "First, let's set up the environment:\n"
      ]
    },
    {
      "cell_type": "code",
      "execution_count": null,
      "metadata": {},
      "outputs": [],
      "source": [
        "# Clone the repository\n",
        "!git clone https://github.com/juanvolpe/voiceJuan.git\n",
        "%cd voiceJuan\n",
        "\n",
        "# Install dependencies\n",
        "!pip install -r requirements.txt\n"
      ]
    },
    {
      "cell_type": "code",
      "execution_count": null,
      "metadata": {},
      "outputs": [],
      "source": [
        "## Upload Voice Samples\n",
        "\n",
        "Now you can upload your WAV files. Make sure they are:\n",
        "- Clear Spanish speech\n",
        "- WAV format\n",
        "- Good quality audio\n",
        "\n",
        "Run the cell below and use the 'Choose Files' button to upload your samples:\n"
      ]
    },
    {
      "cell_type": "code",
      "execution_count": null,
      "metadata": {},
      "outputs": [],
      "source": [
        "from google.colab import files\n",
        "import os\n",
        "\n",
        "# Create directories\n",
        "!mkdir -p tortoise/voices/juan_es/samples\n",
        "\n",
        "# Upload interface\n",
        "print(\"Please upload your WAV files...\")\n",
        "uploaded = files.upload()\n",
        "\n",
        "# Save files\n",
        "for filename in uploaded.keys():\n",
        "    if filename.endswith('.wav'):\n",
        "        path = f'tortoise/voices/juan_es/samples/{filename}'\n",
        "        with open(path, 'wb') as f:\n",
        "            f.write(uploaded[filename])\n",
        "        print(f'Saved {filename}')\n",
        "\n",
        "# List all uploaded samples\n",
        "print(\"\\nUploaded voice samples:\")\n",
        "!ls tortoise/voices/juan_es/samples/\n"
      ]
    },
    {
      "cell_type": "code",
      "execution_count": null,
      "metadata": {},
      "outputs": [],
      "source": [
        "## Generate Speech\n",
        "\n",
        "Now you can generate speech using your voice samples. The system will ask if you want to:\n",
        "1. Use existing voice cache (faster)\n",
        "2. Reprocess voice samples (use if you've added new samples)\n",
        "\n",
        "Run the cell below to start generating:\n"
      ]
    },
    {
      "cell_type": "code",
      "execution_count": null,
      "metadata": {},
      "outputs": [],
      "source": [
        "from spanish_tortoise import SpanishTTS\n",
        "from IPython.display import Audio\n",
        "\n",
        "# Initialize TTS\n",
        "tts = SpanishTTS()  # Will ask about cache usage\n",
        "\n",
        "# Get text input\n",
        "text = input(\"Enter Spanish text: \")\n",
        "\n",
        "# Available presets\n",
        "presets = ['ultra_fast', 'fast', 'standard', 'high_quality']\n",
        "print(\"\\nAvailable quality presets:\")\n",
        "for i, p in enumerate(presets, 1):\n",
        "    print(f\"{i}. {p}\")\n",
        "\n",
        "# Get preset choice\n",
        "while True:\n",
        "    choice = input(\"\\nSelect quality (1-4) [default=2]: \").strip()\n",
        "    if not choice:\n",
        "        preset = 'fast'\n",
        "        break\n",
        "    try:\n",
        "        idx = int(choice) - 1\n",
        "        if 0 <= idx < len(presets):\n",
        "            preset = presets[idx]\n",
        "            break\n",
        "    except ValueError:\n",
        "        pass\n",
        "    print(\"Please enter a number between 1 and 4\")\n",
        "\n",
        "# Generate speech\n",
        "output_file = tts.generate_speech(text, preset=preset)\n",
        "\n",
        "# Play the generated audio\n",
        "Audio(output_file)\n"
      ]
    },
    {
      "cell_type": "code",
      "execution_count": null,
      "metadata": {},
      "outputs": [],
      "source": [
        "## Download Generated Audio\n",
        "\n",
        "You can download the generated audio file:\n"
      ]
    },
    {
      "cell_type": "code",
      "execution_count": null,
      "metadata": {},
      "outputs": [],
      "source": [
        "files.download(output_file)\n"
      ]
    }
  ],
  "metadata": {
    "language_info": {
      "name": "python"
    }
  },
  "nbformat": 4,
  "nbformat_minor": 2
}
